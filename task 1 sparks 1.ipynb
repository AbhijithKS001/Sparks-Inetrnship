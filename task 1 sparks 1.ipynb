{
 "cells": [
  {
   "cell_type": "markdown",
   "id": "4828267f",
   "metadata": {},
   "source": [
    "# Abhijith K S\n",
    "\n",
    "# GRIP \n",
    "\n",
    "**Data Science and Buisness Analytics Internship**\n",
    "# Task 1.\n",
    "\n",
    "***Prediction using supervised ML***\n"
   ]
  },
  {
   "cell_type": "markdown",
   "id": "3eaae1a6",
   "metadata": {},
   "source": [
    "**Predict the percentage of marks a student may obtain based on the number of study hours**"
   ]
  },
  {
   "cell_type": "markdown",
   "id": "37b6a0f1",
   "metadata": {},
   "source": [
    "**Importing the libraries required**"
   ]
  },
  {
   "cell_type": "code",
   "execution_count": 20,
   "id": "fa499235",
   "metadata": {},
   "outputs": [],
   "source": [
    "# Importing all libraries required in this notebook\n",
    "\n",
    "\n",
    "import pandas as pd\n",
    "import numpy as np  \n",
    "import matplotlib.pyplot as plt  \n",
    "%matplotlib inline\n"
   ]
  },
  {
   "cell_type": "markdown",
   "id": "363de685",
   "metadata": {},
   "source": [
    " **Importing the data set**"
   ]
  },
  {
   "cell_type": "code",
   "execution_count": 34,
   "id": "848168eb",
   "metadata": {},
   "outputs": [
    {
     "name": "stdout",
     "output_type": "stream",
     "text": [
      "Data imported successfully\n"
     ]
    },
    {
     "data": {
      "text/html": [
       "<div>\n",
       "<style scoped>\n",
       "    .dataframe tbody tr th:only-of-type {\n",
       "        vertical-align: middle;\n",
       "    }\n",
       "\n",
       "    .dataframe tbody tr th {\n",
       "        vertical-align: top;\n",
       "    }\n",
       "\n",
       "    .dataframe thead th {\n",
       "        text-align: right;\n",
       "    }\n",
       "</style>\n",
       "<table border=\"1\" class=\"dataframe\">\n",
       "  <thead>\n",
       "    <tr style=\"text-align: right;\">\n",
       "      <th></th>\n",
       "      <th>Hours</th>\n",
       "      <th>Scores</th>\n",
       "    </tr>\n",
       "  </thead>\n",
       "  <tbody>\n",
       "    <tr>\n",
       "      <th>0</th>\n",
       "      <td>2.5</td>\n",
       "      <td>21</td>\n",
       "    </tr>\n",
       "    <tr>\n",
       "      <th>1</th>\n",
       "      <td>5.1</td>\n",
       "      <td>47</td>\n",
       "    </tr>\n",
       "    <tr>\n",
       "      <th>2</th>\n",
       "      <td>3.2</td>\n",
       "      <td>27</td>\n",
       "    </tr>\n",
       "    <tr>\n",
       "      <th>3</th>\n",
       "      <td>8.5</td>\n",
       "      <td>75</td>\n",
       "    </tr>\n",
       "    <tr>\n",
       "      <th>4</th>\n",
       "      <td>3.5</td>\n",
       "      <td>30</td>\n",
       "    </tr>\n",
       "  </tbody>\n",
       "</table>\n",
       "</div>"
      ],
      "text/plain": [
       "   Hours  Scores\n",
       "0    2.5      21\n",
       "1    5.1      47\n",
       "2    3.2      27\n",
       "3    8.5      75\n",
       "4    3.5      30"
      ]
     },
     "execution_count": 34,
     "metadata": {},
     "output_type": "execute_result"
    }
   ],
   "source": [
    "# Reading data from remote link\n",
    "\n",
    "# You can import the data set directly by usin the url\n",
    "#url = \"http://bit.ly/w-data\"\n",
    "#data = pd.read_csv(url)\n",
    "\n",
    "#you can also import the data set by using the file path\n",
    "data = pd.read_csv(\"C:\\\\Users\\\\ABHI\\\\OneDrive\\\\Documents\\\\slr_proj.csv\")\n",
    "print(\"Data imported successfully\")\n",
    "\n",
    "data.head(5)"
   ]
  },
  {
   "cell_type": "markdown",
   "id": "b12de673",
   "metadata": {},
   "source": [
    "**To check the correlation between the variables**"
   ]
  },
  {
   "cell_type": "code",
   "execution_count": 35,
   "id": "4050bcea",
   "metadata": {},
   "outputs": [
    {
     "name": "stdout",
     "output_type": "stream",
     "text": [
      "           Hours    Scores\n",
      "Hours   1.000000  0.976191\n",
      "Scores  0.976191  1.000000\n"
     ]
    }
   ],
   "source": [
    "print(data.corr())"
   ]
  },
  {
   "cell_type": "markdown",
   "id": "3b3a9c61",
   "metadata": {},
   "source": [
    "***Visualizing Data Using Scatter plot***"
   ]
  },
  {
   "cell_type": "code",
   "execution_count": 22,
   "id": "ba7f08b9",
   "metadata": {},
   "outputs": [
    {
     "data": {
      "image/png": "[encoded data removed]",
      "text/plain": [
       "<Figure size 432x288 with 1 Axes>"
      ]
     },
     "metadata": {
      "needs_background": "light"
     },
     "output_type": "display_data"
    }
   ],
   "source": [
    "# Plotting the distribution of scores\n",
    "data.plot(x='Hours', y='Scores', style='*')  \n",
    "plt.title('Hours vs Percentage')  \n",
    "plt.xlabel('Hours Studied')  \n",
    "plt.ylabel('Percentage Score')  \n",
    "plt.show()"
   ]
  },
  {
   "cell_type": "raw",
   "id": "dc014407",
   "metadata": {},
   "source": [
    "Here we can see a positive linear relation between hours of study and the percentage of marks obtained. That is they are directly proportional to each other. As the study time increases the percentage of marks obtained also increases "
   ]
  },
  {
   "cell_type": "markdown",
   "id": "2508b96b",
   "metadata": {},
   "source": [
    "#  Preparing the data\n",
    "***Spliting the data into dependent (Y) and independent (X) Variables***"
   ]
  },
  {
   "cell_type": "code",
   "execution_count": 36,
   "id": "c1255cab",
   "metadata": {},
   "outputs": [],
   "source": [
    "X = data.iloc[:, :-1].values  \n",
    "Y = data.iloc[:, 1].values "
   ]
  },
  {
   "cell_type": "markdown",
   "id": "48c3c5f5",
   "metadata": {},
   "source": [
    "Now that we have our attributes and labels, the next step is to split this data into training and test sets."
   ]
  },
  {
   "cell_type": "code",
   "execution_count": 37,
   "id": "de48b172",
   "metadata": {},
   "outputs": [],
   "source": [
    "from sklearn.model_selection import train_test_split  \n",
    "X_train, X_test, Y_train, Y_test = train_test_split(X, Y, \n",
    "                            test_size=0.2, random_state=0) "
   ]
  },
  {
   "cell_type": "markdown",
   "id": "9fa703f8",
   "metadata": {},
   "source": [
    "### Training the Algorithm\n",
    "We have split our data into training and testing sets.Now we can train the data"
   ]
  },
  {
   "cell_type": "code",
   "execution_count": 38,
   "id": "c046456b",
   "metadata": {},
   "outputs": [
    {
     "name": "stdout",
     "output_type": "stream",
     "text": [
      "Training complete.\n"
     ]
    }
   ],
   "source": [
    "from sklearn.linear_model import LinearRegression  \n",
    "reg = LinearRegression()  \n",
    "reg.fit(X_train, Y_train) \n",
    "\n",
    "print(\"Training complete.\")"
   ]
  },
  {
   "cell_type": "markdown",
   "id": "a48d7b1e",
   "metadata": {},
   "source": [
    "***Plotting the data***"
   ]
  },
  {
   "cell_type": "code",
   "execution_count": 26,
   "id": "a206c09c",
   "metadata": {},
   "outputs": [
    {
     "data": {
      "image/png": "[encoded data removed]",
      "text/plain": [
       "<Figure size 432x288 with 1 Axes>"
      ]
     },
     "metadata": {
      "needs_background": "light"
     },
     "output_type": "display_data"
    }
   ],
   "source": [
    "# Plotting the regression line\n",
    "line = reg.coef_*X+reg.intercept_\n",
    "\n",
    "# Plotting for the test data\n",
    "plt.scatter(X, y)\n",
    "plt.plot(X, line,color='green');\n",
    "plt.title(\"Scatter Plot With Regression Line\",fontsize=10,color='red')\n",
    "plt.xlabel('Hours Studied',fontsize=10,color='red')  \n",
    "plt.ylabel('Percentage Score',fontsize=10,color='red') \n",
    "plt.show()"
   ]
  },
  {
   "cell_type": "markdown",
   "id": "5387e1ca",
   "metadata": {},
   "source": [
    "***Making Predictions***"
   ]
  },
  {
   "cell_type": "code",
   "execution_count": 27,
   "id": "583132ce",
   "metadata": {},
   "outputs": [
    {
     "name": "stdout",
     "output_type": "stream",
     "text": [
      "[[1.5]\n",
      " [3.2]\n",
      " [7.4]\n",
      " [2.5]\n",
      " [5.9]]\n",
      "   Actual  Predicted\n",
      "0    20.0  16.884145\n",
      "1    27.0  33.732261\n",
      "2    69.0  75.357018\n",
      "3    30.0  26.794801\n",
      "4    62.0  60.491033\n"
     ]
    }
   ],
   "source": [
    "print(X_test) # Testing data - In Hours\n",
    "y_pred = reg.predict(X_test) # Predicting the scores\n",
    "pred=np.concatenate((y_test.reshape(len(y_test),1),y_pred.reshape(len(y_pred),1)),1)\n",
    "pred_df=pd.DataFrame(pred)\n",
    "pred_df.rename(columns={0:\"Actual\",1:\"Predicted\"},inplace=True)\n",
    "print(pred_df)"
   ]
  },
  {
   "cell_type": "markdown",
   "id": "479eab97",
   "metadata": {},
   "source": [
    "***Making prediction for a particular time in hour. Here it is 9.25***"
   ]
  },
  {
   "cell_type": "code",
   "execution_count": 33,
   "id": "8aaa7599",
   "metadata": {},
   "outputs": [
    {
     "name": "stdout",
     "output_type": "stream",
     "text": [
      "enter the hours of study:-9.25\n",
      "Time taken for studies= 9.25\n",
      "the percentage obtained for 9.25 study time 93.69173248737538 in hrs\n"
     ]
    }
   ],
   "source": [
    "# You can also test with your own data\n",
    "hours =float(input(\"enter the hours of study:-\"))\n",
    "Time_taken=[[hours]]\n",
    "Prediction = reg.predict(Time_taken)\n",
    "print(\"Time taken for studies= {}\".format(hours))\n",
    "print(\"the percentage obtained for {} study time {} in hrs\".format(hours,float(Prediction)))"
   ]
  },
  {
   "cell_type": "markdown",
   "id": "ba7d7860",
   "metadata": {},
   "source": [
    "# Evaluating the model"
   ]
  },
  {
   "cell_type": "code",
   "execution_count": 32,
   "id": "ace99906",
   "metadata": {},
   "outputs": [
    {
     "name": "stdout",
     "output_type": "stream",
     "text": [
      "Mean Absolute Error is: 4.183859899002975\n",
      "R2 scose: 0.9454906892105356\n"
     ]
    }
   ],
   "source": [
    "from sklearn.metrics  import *\n",
    "print('Mean Absolute Error is:',format(mean_absolute_error(y_test, y_pred))) \n",
    "print(\"R2 scose:\",format(r2_score(y_test, y_pred)))"
   ]
  },
  {
   "cell_type": "markdown",
   "id": "200e2a7e",
   "metadata": {},
   "source": [
    "# **Interpretation of the model**"
   ]
  },
  {
   "cell_type": "markdown",
   "id": "c1669cae",
   "metadata": {},
   "source": [
    "1. **Mean Absolute Error** gives the result as how far the predicted values is away from the actual data\n",
    "2. **R2 score** provides how much the regression model fits the data...\n",
    "     **Here it is 93%** which is good"
   ]
  }
 ],
 "metadata": {
  "kernelspec": {
   "display_name": "Python 3",
   "language": "python",
   "name": "python3"
  },
  "language_info": {
   "codemirror_mode": {
    "name": "ipython",
    "version": 3
   },
   "file_extension": ".py",
   "mimetype": "text/x-python",
   "name": "python",
   "nbconvert_exporter": "python",
   "pygments_lexer": "ipython3",
   "version": "3.8.8"
  }
 },
 "nbformat": 4,
 "nbformat_minor": 5
}
